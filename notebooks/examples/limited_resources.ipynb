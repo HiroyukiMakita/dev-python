{
 "cells": [
  {
   "cell_type": "markdown",
   "id": "7233f75e",
   "metadata": {},
   "source": [
    "# Python 実行環境のリソース制限の確認\n",
    "\n",
    "[../../docker/compose.yml](../../docker/compose.yml) にて、python コンテナのリソース制限が可能です。  \n",
    "デフォルトではコメントアウトしてありますので、これを使用する場合は適宜コメント解除＆設定をしてコンテナ再起動してください。  \n",
    "その後、`make up-jupyter` コマンドを実行すると python コンテナでリソース制限が効いた状態で Jupyter サーバーが起動するので、そのカーネルを選択することで、以下のリソース制限確認を行うことが可能です。"
   ]
  },
  {
   "cell_type": "code",
   "execution_count": 1,
   "id": "b71637aa",
   "metadata": {},
   "outputs": [
    {
     "name": "stdout",
     "output_type": "stream",
     "text": [
      "max 100000\n",
      "max\n"
     ]
    }
   ],
   "source": [
    "# コンテナのリソース制限確認（make up-jupyter で起動した Jupyter Kernel に接続すること）\n",
    "!cat /sys/fs/cgroup/cpu.max\n",
    "!cat /sys/fs/cgroup/memory.max"
   ]
  }
 ],
 "metadata": {
  "kernelspec": {
   "display_name": "Python (docker)",
   "language": "python",
   "name": "docker-py"
  },
  "language_info": {
   "codemirror_mode": {
    "name": "ipython",
    "version": 3
   },
   "file_extension": ".py",
   "mimetype": "text/x-python",
   "name": "python",
   "nbconvert_exporter": "python",
   "pygments_lexer": "ipython3",
   "version": "3.10.18"
  }
 },
 "nbformat": 4,
 "nbformat_minor": 5
}
