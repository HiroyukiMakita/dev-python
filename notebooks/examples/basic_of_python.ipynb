{
 "cells": [
  {
   "attachments": {},
   "cell_type": "markdown",
   "metadata": {},
   "source": [
    "# 変数定義と変数の種類（型アノテーションもつけてみる）\n"
   ]
  },
  {
   "cell_type": "code",
   "execution_count": null,
   "metadata": {},
   "outputs": [],
   "source": [
    "\"\"\"\n",
    "複数行コメント\n",
    "\"\"\"\n",
    "\n",
    "# 整数 int\n",
    "integer: int = 10\n",
    "# 浮動小数点\n",
    "floating: float = 3.14\n",
    "# 真偽値\n",
    "c: bool = True\n",
    "# 文字列\n",
    "d: str = \"Hello, World!\"\n",
    "# 文字列内に変数や式を埋め込む\n",
    "e: str = \"ten is {}, Pi is {}\".format(integer, floating)\n",
    "# 文字列内に変数や式を埋め込む\n",
    "f: str = f\"ten is {integer}, Pi is {floating}\"\n",
    "# バイト\n",
    "g: bytes = b\"0xDEADBEEF\"\n",
    "# リスト\n",
    "h: list = [False, \"1\", 2]\n",
    "# タプル（リストと似てるけど、要素の追加と削除ができない）\n",
    "i: tuple = (False, \"1\", 2)\n",
    "# 辞書\n",
    "j: dict = {\"key1\": \"value1\", \"key2\": 30}\n",
    "# 集合、重複は除去される\n",
    "k: set = {0, 1, 1, 1, 1, 1, 2, 2, 3}\n",
    "# どの型にも属さない変数\n",
    "l: None = None\n",
    "# range オブジェクトという、くり返し可能なオブジェクト\n",
    "m: range = range(0, 5)\n",
    "# Python に定数はないが、安打バーと大文字で表すのが慣例\n",
    "UPPER_VALUE = \"定数\"\n",
    "\n",
    "print(\n",
    "    # type() で型を出力できる\n",
    "    integer,\n",
    "    f\"({type(integer)})\",\n",
    "    \"\\n\",\n",
    "    floating,\n",
    "    f\"({type(floating)})\",\n",
    "    \"\\n\",\n",
    "    c,\n",
    "    f\"({type(c)})\",\n",
    "    \"\\n\",\n",
    "    d,\n",
    "    f\"({type(d)})\",\n",
    "    \"\\n\",\n",
    "    e,\n",
    "    f\"({type(e)})\",\n",
    "    \"\\n\",\n",
    "    f,\n",
    "    f\"({type(f)})\",\n",
    "    \"\\n\",\n",
    "    g,\n",
    "    f\"({type(g)})\",\n",
    "    \"\\n\",\n",
    "    h,\n",
    "    f\"({type(h)})\",\n",
    "    \"\\n\",\n",
    "    i,\n",
    "    f\"({type(i)})\",\n",
    "    \"\\n\",\n",
    "    j,\n",
    "    f\"({type(j)})\",\n",
    "    \"\\n\",\n",
    "    k,\n",
    "    f\"({type(k)})\",\n",
    "    \"\\n\",\n",
    "    l,\n",
    "    f\"({type(l)})\",\n",
    "    \"\\n\",\n",
    "    m,\n",
    "    f\"({type(m)})\",\n",
    "    \"\\n\",\n",
    "    UPPER_VALUE,\n",
    "    f\"({type(UPPER_VALUE)})\",\n",
    ")"
   ]
  },
  {
   "attachments": {},
   "cell_type": "markdown",
   "metadata": {},
   "source": [
    "# 文字列操作\n"
   ]
  },
  {
   "cell_type": "code",
   "execution_count": null,
   "metadata": {},
   "outputs": [],
   "source": [
    "# 文字列内に変数や式を埋め込む\n",
    "print(f\"Pi is {floating}\")\n",
    "\n",
    "# そのままの文字列とする（１つづつ \\ で打ち消さなくても特殊文字無効化できるっぽい）\n",
    "print(r\"C:/name/name\")\n",
    "\n",
    "# 文字列連結\n",
    "print(\"hoge\" + \"fuga\")\n",
    "\n",
    "# 繰り返し\n",
    "print(\"hoge\" * 2)\n",
    "\n",
    "# sep= で区切り文字の指定、end= で最後の文字の指定（デフォルトは \\n）\n",
    "print(\"1\", \"2\", \"3\", sep=\"・\", end=\"。\")\n",
    "\n",
    "print(\n",
    "    \"\"\"\n",
    "複数行\n",
    "　の\n",
    "文　字\n",
    "\"\"\"\n",
    ")\n",
    "\n",
    "# 文字列のインデックス\n",
    "print(\"python\"[0])\n",
    "print(\"python\"[-1])\n",
    "# スライス\n",
    "print(\"python\"[2:4])\n",
    "print(\"python\"[2:])\n",
    "print(\"python\"[:2] + \"charm\")"
   ]
  },
  {
   "attachments": {},
   "cell_type": "markdown",
   "metadata": {},
   "source": [
    "# 数値演算\n"
   ]
  },
  {
   "cell_type": "code",
   "execution_count": null,
   "metadata": {},
   "outputs": [],
   "source": [
    "# ingteger = 10\n",
    "# floating = 3.14\n",
    "\n",
    "# 加算\n",
    "total = integer + floating\n",
    "# 減算\n",
    "difference = integer - floating\n",
    "# 乗算\n",
    "prooduct = floating * integer\n",
    "# 除算\n",
    "division = floating / integer\n",
    "# 商\n",
    "quotient = floating // integer\n",
    "# 剰余\n",
    "remainder = floating % 5\n",
    "# べき乗\n",
    "power = 2**3\n",
    "\n",
    "print(\n",
    "    total,\n",
    "    difference,\n",
    "    prooduct,\n",
    "    division,\n",
    "    quotient,\n",
    "    remainder,\n",
    "    power,\n",
    "    sep=\"\\n\",\n",
    ")"
   ]
  },
  {
   "attachments": {},
   "cell_type": "markdown",
   "metadata": {},
   "source": [
    "# リストやタプルの操作\n"
   ]
  },
  {
   "cell_type": "code",
   "execution_count": null,
   "metadata": {},
   "outputs": [],
   "source": [
    "# リスト\n",
    "x = [0, 1, 2, 3]\n",
    "\n",
    "# 要素の追加\n",
    "x.append(4)\n",
    "\n",
    "# 要素数\n",
    "print(len(x))\n",
    "# 添字 0 の要素を参照\n",
    "print(x[0])\n",
    "# 負の添字だと後ろから参照\n",
    "print(x[-1])\n",
    "# スライス\n",
    "print(x[1:3])\n",
    "# １つ飛ばしスライス\n",
    "print(x[::2])\n",
    "\n",
    "\n",
    "# アンパック代入\n",
    "# リスト\n",
    "x = [10, 3.14, \"Hello, World!\"]\n",
    "a, b, c = x\n",
    "print(\n",
    "    a,\n",
    "    \"\\n\",\n",
    "    b,\n",
    "    \"\\n\",\n",
    "    c,\n",
    "    \"\\n\",\n",
    ")\n",
    "# タプル\n",
    "y = (10, 3.14, \"Hello, World!\")\n",
    "d, f, g = y\n",
    "print(\n",
    "    d,\n",
    "    \"\\n\",\n",
    "    f,\n",
    "    \"\\n\",\n",
    "    g,\n",
    "    \"\\n\",\n",
    ")\n",
    "\n",
    "# 代入先の変数に * を付けておくと、その変数はリスト型になるため、要素数が一致しなくてもアンパック代入が可能\n",
    "x = [0, 1, 2, 3, 4]\n",
    "a, b, *c = x  # a: 0, b: 1, c: [2, 3, 4]"
   ]
  },
  {
   "attachments": {},
   "cell_type": "markdown",
   "metadata": {},
   "source": [
    "# 関数\n"
   ]
  },
  {
   "cell_type": "code",
   "execution_count": null,
   "metadata": {},
   "outputs": [],
   "source": [
    "# 普通に定義\n",
    "def another_function():\n",
    "    \"\"\"\n",
    "    関数の説明(docstring)\n",
    "    \"\"\"\n",
    "    print(\"Another function\")\n",
    "\n",
    "\n",
    "# 引数\n",
    "def arg_function(x, y):\n",
    "    \"\"\"\n",
    "    Args:\n",
    "        x: (str)\n",
    "        y: (str)\n",
    "\n",
    "    Returns:\n",
    "        void\n",
    "    \"\"\"\n",
    "    print(f\"The value of x is {x}\")\n",
    "    print(f\"The value of y is {y}\")\n",
    "\n",
    "\n",
    "# デフォルト引数\n",
    "def default_arg_function(x, y=10):\n",
    "    print(f\"The value of x is {x}\")\n",
    "    print(f\"The value of y is {y}\")\n",
    "\n",
    "\n",
    "def main():\n",
    "    another_function()\n",
    "    arg_function(10, \"fa\")\n",
    "    # docstring を出力\n",
    "    print(arg_function.__doc__)\n",
    "    default_arg_function(10)\n",
    "    # キーワード引数（引数名を指定すれば順不同で渡せる）\n",
    "    arg_function(y=10, x=\"fa\")\n",
    "\n",
    "\n",
    "main()"
   ]
  },
  {
   "attachments": {},
   "cell_type": "markdown",
   "metadata": {},
   "source": [
    "# 例外処理\n"
   ]
  },
  {
   "cell_type": "code",
   "execution_count": null,
   "metadata": {},
   "outputs": [],
   "source": [
    "l = [1, 2, 3]\n",
    "i = 5\n",
    "# del l\n",
    "try:\n",
    "    l[i]\n",
    "except IndexError as ex:\n",
    "    print(f\"Don't worry: {ex}\")\n",
    "except NameError as ex:\n",
    "    print(ex)\n",
    "else:\n",
    "    print(\"no error occurred then.\")\n",
    "finally:\n",
    "    print(\"all done.\")\n",
    "\n",
    "try:\n",
    "    raise TypeError(\"original error\")\n",
    "except TypeError as ex:\n",
    "    print(ex)"
   ]
  },
  {
   "cell_type": "markdown",
   "metadata": {},
   "source": [
    "# 可変長引数\n"
   ]
  },
  {
   "cell_type": "code",
   "execution_count": null,
   "metadata": {},
   "outputs": [],
   "source": [
    "def variable_args(arg1, *args):\n",
    "    \"\"\"*args: 複数の引数をタプルとして受け取る\"\"\"\n",
    "    print(\"variable_args\")\n",
    "    print(\"arg1: \", arg1)\n",
    "    print(\"args: \", args)\n",
    "\n",
    "\n",
    "variable_args(\"hoge\", \"fuga\", \"piyo\")\n",
    "\n",
    "\n",
    "def variable_kwargs(arg1, **kwargs):\n",
    "    \"\"\"**kwargs: 複数のキーワード引数を辞書として受け取る\"\"\"\n",
    "    print(\"variable_kwargs\")\n",
    "    print(\"arg1: \", arg1)\n",
    "    print(\"kwargs: \", kwargs)\n",
    "\n",
    "\n",
    "variable_kwargs(\"hoge\", key1=1)"
   ]
  },
  {
   "attachments": {},
   "cell_type": "markdown",
   "metadata": {},
   "source": [
    "# 分岐\n"
   ]
  },
  {
   "cell_type": "code",
   "execution_count": null,
   "metadata": {},
   "outputs": [],
   "source": [
    "# if\n",
    "\n",
    "x = 1\n",
    "\n",
    "if x >= 2:\n",
    "    print(\"x is over than 2\")\n",
    "elif x == 1:\n",
    "    print(\"x is 1\")\n",
    "else:\n",
    "    print(\"x is less than 1\")"
   ]
  },
  {
   "attachments": {},
   "cell_type": "markdown",
   "metadata": {},
   "source": [
    "# 繰り返し\n"
   ]
  },
  {
   "cell_type": "code",
   "execution_count": null,
   "metadata": {},
   "outputs": [],
   "source": [
    "# while\n",
    "count = 5\n",
    "while count > 0:\n",
    "    print(count)\n",
    "    count -= 1\n",
    "print(\"\\n\")\n",
    "\n",
    "# 無限ループの while と break と continue\n",
    "while True:\n",
    "    if count >= 5:\n",
    "        break\n",
    "\n",
    "    count += 1\n",
    "\n",
    "    print(count)\n",
    "print(\"\\n\")\n",
    "\n",
    "\n",
    "# for\n",
    "number_list = [0, 1, 2, 3, 4]\n",
    "\n",
    "for num in number_list:\n",
    "    if num == 2:\n",
    "        continue\n",
    "    print(num)\n",
    "else:\n",
    "    print(\"繰り返し終了\")\n",
    "print(\"\\n\")\n",
    "\n",
    "# range() を使用した n 回の for\n",
    "count = 0\n",
    "for i in range(5):\n",
    "    print(f\"{i} 回目\")"
   ]
  },
  {
   "attachments": {},
   "cell_type": "markdown",
   "metadata": {},
   "source": [
    "# ラムダ式\n",
    "\n",
    "無名関数を簡潔に定義できる\n"
   ]
  },
  {
   "cell_type": "code",
   "execution_count": null,
   "metadata": {},
   "outputs": [],
   "source": [
    "# 引数を3倍する\n",
    "to_triple = lambda value: value * 3\n",
    "print(to_triple(10))\n",
    "\n",
    "positive_numbers = [1, 2, 3]\n",
    "# 引数に -1 をかける\n",
    "to_negative_numbers = lambda value: value * -1\n",
    "# map とかに渡せる\n",
    "print(list(map(to_negative_numbers, positive_numbers)))"
   ]
  },
  {
   "attachments": {},
   "cell_type": "markdown",
   "metadata": {},
   "source": [
    "# リスト内包表記\n",
    "\n",
    "リスト内包表記とはリストを簡単に作成するための構文\n"
   ]
  },
  {
   "cell_type": "code",
   "execution_count": null,
   "metadata": {},
   "outputs": [],
   "source": [
    "range_obj = range(5)\n",
    "print(range_obj)\n",
    "\n",
    "# 0　から始まる 2 の倍数を、range で作成した要素数の配列\n",
    "x = [i * 2 for i in range_obj]\n",
    "print(x)\n",
    "\n",
    "# 辞書型からタプルを要素とするリストを作成\n",
    "x = {\"a\": 10, \"b\": 20, \"c\": 30}\n",
    "y = [(key, val) for key, val in x.items()]\n",
    "print(y)"
   ]
  },
  {
   "attachments": {},
   "cell_type": "markdown",
   "metadata": {},
   "source": [
    "# 三項演算子\n",
    "\n",
    "使い方は以下だけど分かりづらい\n"
   ]
  },
  {
   "cell_type": "code",
   "execution_count": null,
   "metadata": {},
   "outputs": [],
   "source": [
    "boolean = \"True\" if True else \"False\"\n",
    "print(boolean)"
   ]
  },
  {
   "cell_type": "markdown",
   "metadata": {},
   "source": [
    "# Enum\n"
   ]
  },
  {
   "cell_type": "code",
   "execution_count": null,
   "metadata": {},
   "outputs": [],
   "source": [
    "from enum import Enum\n",
    "\n",
    "\n",
    "class FineTunableModel(Enum):\n",
    "    DAVINCI = \"davinci\"\n",
    "    CURIE = \"curie\"\n",
    "    BABBAGE = \"babbage\"\n",
    "    ADA = \"ada\"\n",
    "\n",
    "    def training_cost(self):\n",
    "        match self:\n",
    "            case FineTunableModel.DAVINCI:\n",
    "                return 0.03\n",
    "            case FineTunableModel.CURIE:\n",
    "                return 0.003\n",
    "            case FineTunableModel.BABBAGE:\n",
    "                return 0.0006\n",
    "            case FineTunableModel.ADA:\n",
    "                return 0.0004\n",
    "\n",
    "\n",
    "print(\n",
    "    f\"\"\"\n",
    "      Enum そのもの: {FineTunableModel}\n",
    "      Enum の１つ: {FineTunableModel.DAVINCI}\n",
    "      Enum の１つの定数名: {FineTunableModel.DAVINCI.name}\n",
    "      Enum の１つの定数: {FineTunableModel.DAVINCI.value}\n",
    "      Enum の１つの関数実行: {FineTunableModel.DAVINCI.training_cost()}\n",
    "      \"\"\"\n",
    ")"
   ]
  },
  {
   "cell_type": "markdown",
   "metadata": {},
   "source": [
    "# itemgetter オブジェクトの要素を取得する\n",
    "\n",
    "[Pythonのoperatorモジュールの使い方（itemgetterなど） | note.nkmk.me](https://note.nkmk.me/python-operator-usage/#operatoritemgetter)"
   ]
  },
  {
   "cell_type": "code",
   "execution_count": null,
   "metadata": {},
   "outputs": [],
   "source": [
    "from operator import itemgetter\n",
    "\n",
    "topic_getter = itemgetter(\"topic\")\n",
    "topic = topic_getter({\"topic\": \"生成AIの進化について\"})\n",
    "print(topic)"
   ]
  }
 ],
 "metadata": {
  "kernelspec": {
   "display_name": ".venv",
   "language": "python",
   "name": "python3"
  },
  "language_info": {
   "codemirror_mode": {
    "name": "ipython",
    "version": 3
   },
   "file_extension": ".py",
   "mimetype": "text/x-python",
   "name": "python",
   "nbconvert_exporter": "python",
   "pygments_lexer": "ipython3",
   "version": "3.10.18"
  },
  "orig_nbformat": 4
 },
 "nbformat": 4,
 "nbformat_minor": 2
}
