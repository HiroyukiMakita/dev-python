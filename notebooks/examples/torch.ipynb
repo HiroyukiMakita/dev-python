{
 "cells": [
  {
   "cell_type": "markdown",
   "id": "8bc12dd8",
   "metadata": {},
   "source": [
    "# uv 環境で PyTorch をインストール\n",
    "※ PyTorch は CUDA のバージョンと対応したバージョンをインストールする必要があるらしい\n",
    "※ CUDA Toolkit 13.0 の対応 torch はないけど 12.8 に対応しているものでいけた\n",
    "※ `pyproject.toml` に以下を追加して`uv sync` でインストール可能\n",
    "\n",
    "```pyproject.toml\n",
    "\n",
    "dependencies = [\n",
    "\t\"torch\",\n",
    "\t\"torchvision\",\n",
    "]\n",
    "\n",
    "[[tool.uv.index]]\n",
    "name = \"pytorch-cu128\"\n",
    "url = \"https://download.pytorch.org/whl/cu128\"\n",
    "explicit = true\n",
    "\n",
    "[tool.uv.sources]\n",
    "torch = { index = \"pytorch-cu128\" }\n",
    "torchvision = { index = \"pytorch-cu128\" }\n",
    "```\n",
    "\n",
    "動作確認\n",
    "\n",
    "```bash\n",
    "uv run python -c \"import torch; print(torch.cuda.is_available()); print(torch.cuda.get_device_name(0))\"\n",
    "True\n",
    "NVIDIA <GPU デバイス名>\n",
    "```\n"
   ]
  },
  {
   "cell_type": "code",
   "execution_count": null,
   "id": "71c814cb",
   "metadata": {},
   "outputs": [],
   "source": [
    "import torch\n",
    "\n",
    "print(\"# PyTorch バージョン: \", torch.__version__)\n",
    "print(\"# PyTorch が認識している CUDA バージョン: \", torch.version.cuda)\n",
    "print(\"# cuDNN が認識されているか: \", torch.backends.cudnn.version())\n",
    "print(\"# GPU が使用可能か: \", torch.cuda.is_available())\n",
    "print(\"# GPU デバイス数: \", torch.cuda.device_count())\n",
    "current_device = torch.cuda.current_device()\n",
    "print(\"# 現在選択中のデバイス番号: \", current_device)\n",
    "print(\"# GPU デバイス名: \", torch.cuda.get_device_name(current_device))"
   ]
  }
 ],
 "metadata": {
  "kernelspec": {
   "display_name": "Python (devbox)",
   "language": "python",
   "name": "devbox-py"
  },
  "language_info": {
   "codemirror_mode": {
    "name": "ipython",
    "version": 3
   },
   "file_extension": ".py",
   "mimetype": "text/x-python",
   "name": "python",
   "nbconvert_exporter": "python",
   "pygments_lexer": "ipython3",
   "version": "3.10.18"
  }
 },
 "nbformat": 4,
 "nbformat_minor": 5
}
