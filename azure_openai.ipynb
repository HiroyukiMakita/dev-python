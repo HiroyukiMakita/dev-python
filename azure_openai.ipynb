{
 "cells": [
  {
   "cell_type": "code",
   "execution_count": null,
   "id": "a871d5ca",
   "metadata": {},
   "outputs": [],
   "source": [
    "!uv pip install -U openai"
   ]
  },
  {
   "cell_type": "code",
   "execution_count": null,
   "id": "43a501f4",
   "metadata": {},
   "outputs": [],
   "source": [
    "# セットアップ\n",
    "\n",
    "import os\n",
    "\n",
    "from openai import AzureOpenAI\n",
    "\n",
    "# 環境変数からエンドポイントとAPIキーを取得\n",
    "endpoint = os.getenv(\"AZURE_OPENAI_ENDPOINT\")\n",
    "api_key = os.getenv(\"AZURE_OPENAI_API_KEY\")\n",
    "\n",
    "print(endpoint)\n",
    "\n",
    "# Azure OpenAI クライアントの初期化\n",
    "llm = AzureOpenAI(\n",
    "    azure_endpoint=endpoint,\n",
    "    api_key=api_key,\n",
    "    api_version=\"2024-12-01-preview\",\n",
    ")\n",
    "\n",
    "# デプロイ時に設定した独自のデプロイ名を指定します。\n",
    "# たとえば \"gpt-3.5-turbo\"モデルを利用してデプロイした場合、\n",
    "# 「my-gpt35-deployment」のような固有の名称をデプロイ時に付与し、それをここで指定します。\n",
    "\n",
    "# gpt-4.1\n",
    "# - 入力: $2\n",
    "# - キャッシュされた入力: $0.50\n",
    "# - 出力: $8\n",
    "model_name = \"gpt-4.1\""
   ]
  },
  {
   "cell_type": "code",
   "execution_count": null,
   "id": "0407d244",
   "metadata": {},
   "outputs": [],
   "source": [
    "# API 呼び出しテスト\n",
    "\n",
    "response = llm.chat.completions.create(\n",
    "    model=model_name,  # modelパラメータには展開済みデプロイ名を指定\n",
    "    messages=[\n",
    "        {\"role\": \"system\", \"content\": \"You are a helpful assistant.\"},\n",
    "        {\"role\": \"user\", \"content\": \"日本の首都は？\"},\n",
    "    ],\n",
    ")\n",
    "\n",
    "print(response.choices[0].message.content)"
   ]
  }
 ],
 "metadata": {
  "kernelspec": {
   "display_name": ".venv (3.13.3)",
   "language": "python",
   "name": "python3"
  },
  "language_info": {
   "codemirror_mode": {
    "name": "ipython",
    "version": 3
   },
   "file_extension": ".py",
   "mimetype": "text/x-python",
   "name": "python",
   "nbconvert_exporter": "python",
   "pygments_lexer": "ipython3",
   "version": "3.10.18"
  }
 },
 "nbformat": 4,
 "nbformat_minor": 5
}
