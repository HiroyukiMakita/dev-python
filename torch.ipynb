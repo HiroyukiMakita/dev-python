{
 "cells": [
  {
   "cell_type": "markdown",
   "id": "8bc12dd8",
   "metadata": {},
   "source": [
    "# uv 環境で PyTorch をインストール\n",
    "※ PyTorch は CUDA のバージョンと対応したバージョンをインストールする必要があるらしい\n",
    "※ CUDA Toolkit 13.0 の対応 torch はないけど 12.8 に対応しているものでいけた\n",
    "※ `pyproject.toml` に以下を追加して`uv sync` でインストール可能\n",
    "\n",
    "```pyproject.toml\n",
    "\n",
    "dependencies = [\n",
    "\t\"torch\",\n",
    "\t\"torchvision\",\n",
    "]\n",
    "\n",
    "[[tool.uv.index]]\n",
    "name = \"pytorch-cu128\"\n",
    "url = \"https://download.pytorch.org/whl/cu128\"\n",
    "explicit = true\n",
    "\n",
    "[tool.uv.sources]\n",
    "torch = { index = \"pytorch-cu128\" }\n",
    "torchvision = { index = \"pytorch-cu128\" }\n",
    "```\n",
    "\n",
    "動作確認\n",
    "\n",
    "```bash\n",
    "uv run python -c \"import torch; print(torch.cuda.is_available()); print(torch.cuda.get_device_name(0))\"\n",
    "True\n",
    "NVIDIA <GPU デバイス名>\n",
    "```\n"
   ]
  },
  {
   "cell_type": "code",
   "execution_count": 3,
   "id": "4c352d47",
   "metadata": {},
   "outputs": [
    {
     "name": "stdout",
     "output_type": "stream",
     "text": [
      "12.8\n",
      "True\n"
     ]
    }
   ],
   "source": [
    "import torch\n",
    "\n",
    "print(torch.version.cuda)\n",
    "print(torch.cuda.is_available())"
   ]
  },
  {
   "cell_type": "code",
   "execution_count": 4,
   "id": "71c814cb",
   "metadata": {},
   "outputs": [
    {
     "name": "stdout",
     "output_type": "stream",
     "text": [
      "12.8\n",
      "91002\n",
      "1\n",
      "0\n"
     ]
    }
   ],
   "source": [
    "import torch\n",
    "\n",
    "# PyTorch が認識している CUDA バージョン\n",
    "print(torch.version.cuda)\n",
    "# cuDNN が認識されているか\n",
    "print(torch.backends.cudnn.version())\n",
    "# GPU デバイス数\n",
    "print(torch.cuda.device_count())\n",
    "# 現在選択中のデバイス番号\n",
    "print(torch.cuda.current_device())\n"
   ]
  }
 ],
 "metadata": {
  "kernelspec": {
   "display_name": "Python (devbox)",
   "language": "python",
   "name": "devbox-py"
  },
  "language_info": {
   "codemirror_mode": {
    "name": "ipython",
    "version": 3
   },
   "file_extension": ".py",
   "mimetype": "text/x-python",
   "name": "python",
   "nbconvert_exporter": "python",
   "pygments_lexer": "ipython3",
   "version": "3.10.18"
  }
 },
 "nbformat": 4,
 "nbformat_minor": 5
}
